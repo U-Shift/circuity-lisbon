{
 "cells": [
  {
   "cell_type": "markdown",
   "metadata": {},
   "source": [
    "### Import packages"
   ]
  },
  {
   "cell_type": "code",
   "execution_count": null,
   "metadata": {},
   "outputs": [],
   "source": [
    "import glob\n",
    "import pandas as pd\n",
    "import numpy as np\n",
    "import geopandas as gpd\n",
    "import folium\n",
    "import plotly.graph_objects as go\n",
    "import matplotlib.pyplot as plt"
   ]
  },
  {
   "cell_type": "markdown",
   "metadata": {},
   "source": [
    "### Read data from MSS simulation"
   ]
  },
  {
   "cell_type": "code",
   "execution_count": null,
   "metadata": {},
   "outputs": [],
   "source": [
    "data_IMOB = []\n",
    "mean_circuity_IMOB = {\n",
    "        'circuity_driving-car': [],\n",
    "        'circuity_driving-hgv': [],\n",
    "        'circuity_foot-walking': [],\n",
    "        'circuity_foot-hiking': [],\n",
    "        'circuity_cycling-regular': [],\n",
    "        'circuity_cycling-road': [],\n",
    "        'circuity_cycling-mountain': [],\n",
    "        'circuity_cycling-electric': [],\n",
    "    }\n",
    "\n",
    "for i, data_file in enumerate(sorted(glob.glob('Data/dist_time_lisbon_imob_*.csv'))):\n",
    "    if 'circuity' in data_file:\n",
    "        continue\n",
    "    \n",
    "    print('=====', data_file, '=====')\n",
    "    df = pd.read_csv(data_file, index_col=0, skiprows=range(1,111515+1))\n",
    "\n",
    "    df['circuity_driving-car'] = df['driving-car_dist'] / df['haversine_dist']/1000\n",
    "    df['circuity_driving-hgv'] = df['driving-hgv_dist'] / df['haversine_dist']/1000\n",
    "    df['circuity_foot-walking'] = df['foot-walking_dist'] / df['haversine_dist']/1000\n",
    "    df['circuity_foot-hiking'] = df['foot-hiking_dist'] / df['haversine_dist']/1000\n",
    "    df['circuity_cycling-regular'] = df['cycling-regular_dist'] / df['haversine_dist']/1000\n",
    "    df['circuity_cycling-road'] = df['cycling-road_dist'] / df['haversine_dist']/1000\n",
    "    df['circuity_cycling-mountain'] = df['cycling-mountain_dist'] / df['haversine_dist']/1000\n",
    "    df['circuity_cycling-electric'] = df['cycling-electric_dist'] / df['haversine_dist']/1000\n",
    "\n",
    "    mean_circuity_IMOB['circuity_driving-car'].append(df['circuity_driving-car'].mean(skipna=True))\n",
    "    mean_circuity_IMOB['circuity_driving-hgv'].append(df['circuity_driving-hgv'].mean(skipna=True))\n",
    "    mean_circuity_IMOB['circuity_foot-walking'].append(df['circuity_foot-walking'].mean(skipna=True))\n",
    "    mean_circuity_IMOB['circuity_foot-hiking'].append(df['circuity_foot-hiking'].mean(skipna=True))\n",
    "    mean_circuity_IMOB['circuity_cycling-regular'].append(df['circuity_cycling-regular'].mean(skipna=True))\n",
    "    mean_circuity_IMOB['circuity_cycling-road'].append(df['circuity_cycling-road'].mean(skipna=True))\n",
    "    mean_circuity_IMOB['circuity_cycling-mountain'].append(df['circuity_cycling-mountain'].mean(skipna=True))\n",
    "    mean_circuity_IMOB['circuity_cycling-electric'].append(df['circuity_cycling-electric'].mean(skipna=True))\n",
    "    \n",
    "    if i == 0:\n",
    "        drop_indices = np.random.choice(df.index, 11515, replace=False)\n",
    "    \n",
    "    df = df.drop(drop_indices)\n",
    "    data_IMOB.append(df.reset_index(drop=True))\n",
    "    \n",
    "years = [str(i) for i in range(2013, 2021)]\n",
    "data_aux = {}\n",
    "for i, year in enumerate(years):\n",
    "    data_aux[year] = data_IMOB[i]\n",
    "data_IMOB = data_aux\n",
    "\n",
    "df_IMOB_points = pd.read_csv('Data/df_IMOB_points.csv', index_col=0)"
   ]
  },
  {
   "cell_type": "markdown",
   "metadata": {},
   "source": [
    "### Read parish data"
   ]
  },
  {
   "cell_type": "code",
   "execution_count": null,
   "metadata": {},
   "outputs": [],
   "source": [
    "gdf_freguesias = gpd.read_file(\"Data/Lisboa_Freguesias/Lisboa_Freguesias_CAOP2015_TM06.shp\")\n",
    "gdf_freguesias = gdf_freguesias.to_crs(epsg=4326)\n",
    "gdf_freguesias.geometry.index = gdf_freguesias['DICOFRE']\n",
    "gdf_freguesias['Freguesia'].index = gdf_freguesias['DICOFRE'].astype('str')"
   ]
  },
  {
   "cell_type": "code",
   "execution_count": null,
   "metadata": {},
   "outputs": [],
   "source": [
    "map = folium.Map([38.748662, -9.145801],\n",
    "                 zoom_start=12,\n",
    "                 tiles='cartodbpositron')\n",
    "style_or = {'fillColor': '#F8C290', 'color': '#F8C290'}\n",
    "unique_zones = gdf_freguesias['DICOFRE'].unique()\n",
    "\n",
    "for i, zone in enumerate(unique_zones):\n",
    "    mask = gdf_freguesias['DICOFRE'] == zone\n",
    "\n",
    "    example_or = gdf_freguesias.loc[mask]\n",
    "    folium.GeoJson(example_or,name='polygon_or',style_function=lambda x:style_or).add_to(map)\n",
    "\n",
    "map"
   ]
  },
  {
   "cell_type": "markdown",
   "metadata": {},
   "source": [
    "### Define Gini Coefficient computation function"
   ]
  },
  {
   "cell_type": "code",
   "execution_count": null,
   "metadata": {},
   "outputs": [],
   "source": [
    "def gini(array):\n",
    "    \"\"\"Calculate the Gini coefficient of a numpy array.\"\"\"\n",
    "    # based on bottom eq: http://www.statsdirect.com/help/content/image/stat0206_wmf.gif\n",
    "    # from: http://www.statsdirect.com/help/default.htm#nonparametric_methods/gini.htm\n",
    "    array = array.flatten() #all values are treated equally, arrays must be 1d\n",
    "    if np.amin(array) < 0:\n",
    "        array -= np.amin(array) #values cannot be negative\n",
    "    array += 0.0000001 #values cannot be 0\n",
    "    array = np.sort(array) #values must be sorted\n",
    "    index = np.arange(1,array.shape[0]+1) #index per array element\n",
    "    n = array.shape[0]#number of array elements\n",
    "    return ((np.sum((2 * index - n  - 1) * array)) / (n * np.sum(array))) #Gini coefficient"
   ]
  },
  {
   "cell_type": "markdown",
   "metadata": {},
   "source": [
    "## Compute Gini Coefficient for Driving, Cycling & Walking"
   ]
  },
  {
   "cell_type": "code",
   "execution_count": null,
   "metadata": {},
   "outputs": [],
   "source": [
    "x = data_IMOB['2020']['circuity_driving-car'].to_numpy()\n",
    "x = x[~np.isnan(x)]\n",
    "print('Gini Coef. Driving: {:.4f}'.format(gini(x)))\n",
    "\n",
    "x = data_IMOB['2020']['circuity_cycling-regular'].to_numpy()\n",
    "x = x[~np.isnan(x)]\n",
    "print('Gini Coef. Cycling: {:.4f}'.format(gini(x)))\n",
    "\n",
    "x = data_IMOB['2020']['circuity_foot-walking'].to_numpy()\n",
    "x = x[~np.isnan(x)]\n",
    "print('Gini Coef. Walking: {:.4f}'.format(gini(x)))"
   ]
  },
  {
   "cell_type": "markdown",
   "metadata": {},
   "source": [
    "#### Compute Gini Coefficient for each of Lisbon's parish"
   ]
  },
  {
   "cell_type": "code",
   "execution_count": null,
   "metadata": {},
   "outputs": [],
   "source": [
    "data_IMOB_withFreguesias = data_IMOB['2020']\n",
    "data_IMOB_withFreguesias['freguesia_or'] = df_IMOB_points['freguesia_or']\n",
    "data_IMOB_withFreguesias['freguesia_de'] = df_IMOB_points['freguesia_de']\n",
    "\n",
    "columns = ['walking', 'cycling', 'driving', 'freguesia']\n",
    "gini_freguesias = pd.DataFrame(columns=columns)\n",
    "\n",
    "for freguesia in df_IMOB_points['freguesia_or'].unique():\n",
    "    data_freguesia = data_IMOB_withFreguesias[data_IMOB_withFreguesias['freguesia_or'] == freguesia]\n",
    "\n",
    "    x_cycling = data_freguesia['circuity_cycling-regular'].to_numpy()\n",
    "    x_cycling = x_cycling[~np.isnan(x_cycling)]\n",
    "    x_walking = data_freguesia['circuity_foot-walking'].to_numpy()\n",
    "    x_walking = x_walking[~np.isnan(x_walking)]\n",
    "    x_driving = data_freguesia['circuity_driving-car'].to_numpy()\n",
    "    x_driving = x_driving[~np.isnan(x_driving)]\n",
    "    output = 'Gini Coef. for {} - W: {:.3f} / C: {:.3f} / D: {:.3f}'.format(\n",
    "        str(gdf_freguesias['Freguesia'][str(freguesia)]).ljust(23),\n",
    "        gini(x_walking),\n",
    "        gini(x_cycling),\n",
    "        gini(x_driving)\n",
    "    )\n",
    "    # print(output)\n",
    "    data_row = {\n",
    "        'walking': gini(x_walking),\n",
    "        'cycling': gini(x_cycling),\n",
    "        'driving': gini(x_driving),\n",
    "        'freguesia': str(gdf_freguesias['Freguesia'][str(freguesia)])\n",
    "    }\n",
    "    gini_freguesias = gini_freguesias.append(data_row, ignore_index=True, sort=False)"
   ]
  },
  {
   "cell_type": "markdown",
   "metadata": {},
   "source": [
    "### Plot Gini Coef for each parish"
   ]
  },
  {
   "cell_type": "code",
   "execution_count": null,
   "metadata": {
    "scrolled": false
   },
   "outputs": [],
   "source": [
    "gini_freguesias = gini_freguesias.sort_values(by=['cycling'], ascending=False)\n",
    "    \n",
    "fig = go.Figure()\n",
    "\n",
    "fig.add_trace(go.Scatter(y=gini_freguesias['driving'],\n",
    "                         x=gini_freguesias['freguesia'],\n",
    "                    mode='lines+markers',\n",
    "                    name='driving'))\n",
    "fig.add_trace(go.Scatter(y=gini_freguesias['cycling'],\n",
    "                         x=gini_freguesias['freguesia'],\n",
    "                    mode='lines+markers',\n",
    "                    name='cycling'))\n",
    "fig.add_trace(go.Scatter(y=gini_freguesias['walking'],\n",
    "                         x=gini_freguesias['freguesia'],\n",
    "                    mode='lines+markers',\n",
    "                    name='walking'))\n",
    "        \n",
    "fig.update_layout(\n",
    "    title=\"Gini Coef for Feguesias\",\n",
    "    xaxis_title=\"Freguesias\",\n",
    "    yaxis_title=\"Gini Coef.\",\n",
    "    legend_title=\"Transport Mode\",\n",
    "    autosize=False,\n",
    "    width=900,\n",
    "    height=500,\n",
    "    margin=dict(\n",
    "        l=20,\n",
    "        r=20,\n",
    "        b=20,\n",
    "        t=40,\n",
    "        pad=2\n",
    "    ),\n",
    "    font=dict(\n",
    "        family=\"Times New Roman\",\n",
    "        size=18,\n",
    "        color=\"Black\"\n",
    "    ))\n",
    "fig.update_xaxes(tickangle=-45)\n",
    "fig.update_xaxes(\n",
    "    ticktext=['Arroios', 'Av. Novas', 'Misericórdia', 'Sto. António', 'Areeiro', 'Sta. Maria Maior', 'Campo de Ourique', 'Alvalade', 'S. Vicente', 'Penha de França', 'Campolide', 'Estrela', 'S. Domingos de Benfica', 'Belém', 'Lumiar', 'Ajuda', 'Alcântara', 'Parque das Nações', 'Carnide', 'Olivais', 'Beato', 'Benfica', 'Marvila', 'Santa Clara'],\n",
    "    tickvals=['Arroios', 'Avenidas Novas', 'Miseric', 'Santo Ant', 'Areeiro', 'Santa Maria Maior', 'Campo de Ourique', 'Alvalade', 'S1o Vicente', 'Penha de Fran', 'Campolide', 'Estrela', 'S1o Domingos de Benfica', 'Bel6m', 'Lumiar', 'Ajuda', 'Alc6ntara', 'Parque das Nas', 'Carnide', 'Olivais', 'Beato', 'Benfica', 'Marvila', 'Santa Clara']) \n",
    "fig.show()\n",
    "plt.show()"
   ]
  }
 ],
 "metadata": {
  "kernelspec": {
   "display_name": "Python 3",
   "language": "python",
   "name": "python3"
  },
  "language_info": {
   "codemirror_mode": {
    "name": "ipython",
    "version": 3
   },
   "file_extension": ".py",
   "mimetype": "text/x-python",
   "name": "python",
   "nbconvert_exporter": "python",
   "pygments_lexer": "ipython3",
   "version": "3.8.5"
  }
 },
 "nbformat": 4,
 "nbformat_minor": 4
}
